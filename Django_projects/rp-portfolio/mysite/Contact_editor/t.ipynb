{
 "cells": [
  {
   "cell_type": "code",
   "execution_count": 1,
   "metadata": {},
   "outputs": [
    {
     "name": "stdout",
     "output_type": "stream",
     "text": [
      "['{\"first_name\": \"\", \"last_name\": \"\",  \"academic_title\": \"\", \"company_name\": \"\", \"position\": \"\", \"street\": \"\", \"house_number\": \"\", \"adress_detail\": \"\", \"zip\": \"\", \"city\": \"\", \"region\": \"\", \"country\": \"\", \"email\": \"\", \"phone_number\": \"\", \"mobile_phone_number\": \"\", \"fax_number\": \"\", \"web_site\": \"\", \"facebook\": \"\",  \"linkedin\": \"\"}']\n"
     ]
    },
    {
     "data": {
      "text/plain": [
       "'[\"{\\\\\"first_name\\\\\": \\\\\"\\\\\", \\\\\"last_name\\\\\": \\\\\"\\\\\",  \\\\\"academic_title\\\\\": \\\\\"\\\\\", \\\\\"company_name\\\\\": \\\\\"\\\\\", \\\\\"position\\\\\": \\\\\"\\\\\", \\\\\"street\\\\\": \\\\\"\\\\\", \\\\\"house_number\\\\\": \\\\\"\\\\\", \\\\\"adress_detail\\\\\": \\\\\"\\\\\", \\\\\"zip\\\\\": \\\\\"\\\\\", \\\\\"city\\\\\": \\\\\"\\\\\", \\\\\"region\\\\\": \\\\\"\\\\\", \\\\\"country\\\\\": \\\\\"\\\\\", \\\\\"email\\\\\": \\\\\"\\\\\", \\\\\"phone_number\\\\\": \\\\\"\\\\\", \\\\\"mobile_phone_number\\\\\": \\\\\"\\\\\", \\\\\"fax_number\\\\\": \\\\\"\\\\\", \\\\\"web_site\\\\\": \\\\\"\\\\\", \\\\\"facebook\\\\\": \\\\\"\\\\\",  \\\\\"linkedin\\\\\": \\\\\"\\\\\"}\"]'"
      ]
     },
     "execution_count": 1,
     "metadata": {},
     "output_type": "execute_result"
    }
   ],
   "source": [
    "import re\n",
    "import os\n",
    "str1 = 'Output: {\\\"first_name\\\": \\\"\\\", \\\"last_name\\\": \\\"\\\",  \\\"academic_title\\\": \\\"\\\", \\\"company_name\\\": \\\"\\\", \\\"position\\\": \\\"\\\", \\\"street\\\": \\\"\\\", \\\"house_number\\\": \\\"\\\", \\\"adress_detail\\\": \\\"\\\", \\\"zip\\\": \\\"\\\", \\\"city\\\": \\\"\\\", \\\"region\\\": \\\"\\\", \\\"country\\\": \\\"\\\", \\\"email\\\": \\\"\\\", \\\"phone_number\\\": \\\"\\\", \\\"mobile_phone_number\\\": \\\"\\\", \\\"fax_number\\\": \\\"\\\", \\\"web_site\\\": \\\"\\\", \\\"facebook\\\": \\\"\\\",  \\\"linkedin\\\": \\\"\\\"}'\n",
    "tuples = re.findall(r'\\{.*\\}', str1)\n",
    "#tuples = re.findall(r'\\{[^}]*\\}', str)\n",
    "# tuples = re.findall(r'\\{.*\\:\\{.*\\:.*\\}\\}', str)\n",
    "print(tuples)\n",
    "import json\n",
    "json_object = json.dumps(tuples)\n",
    "json_object\n",
    "####rg"
   ]
  },
  {
   "cell_type": "code",
   "execution_count": 3,
   "metadata": {},
   "outputs": [
    {
     "ename": "PortAudioError",
     "evalue": "Error querying device -1",
     "output_type": "error",
     "traceback": [
      "\u001b[0;31m---------------------------------------------------------------------------\u001b[0m",
      "\u001b[0;31mPortAudioError\u001b[0m                            Traceback (most recent call last)",
      "Cell \u001b[0;32mIn[3], line 20\u001b[0m\n\u001b[1;32m     16\u001b[0m vocode\u001b[39m.\u001b[39mapi_key \u001b[39m=\u001b[39m \u001b[39m\"\u001b[39m\u001b[39m{c299fcfac6a3732ab1261f9fa1cf4171}\u001b[39;00m\u001b[39m\"\u001b[39m\n\u001b[1;32m     19\u001b[0m \u001b[39mif\u001b[39;00m \u001b[39m__name__\u001b[39m \u001b[39m==\u001b[39m \u001b[39m\"\u001b[39m\u001b[39m__main__\u001b[39m\u001b[39m\"\u001b[39m:\n\u001b[0;32m---> 20\u001b[0m     microphone_input, speaker_output \u001b[39m=\u001b[39m create_microphone_input_and_speaker_output(\n\u001b[1;32m     21\u001b[0m     use_default_devices\u001b[39m=\u001b[39;49m\u001b[39mTrue\u001b[39;49;00m)\n\u001b[1;32m     23\u001b[0m     conversation \u001b[39m=\u001b[39m HostedStreamingConversation(\n\u001b[1;32m     24\u001b[0m         input_device\u001b[39m=\u001b[39mmicrophone_input,\n\u001b[1;32m     25\u001b[0m         output_device\u001b[39m=\u001b[39mspeaker_output,\n\u001b[0;32m   (...)\u001b[0m\n\u001b[1;32m     34\u001b[0m         synthesizer_config\u001b[39m=\u001b[39mAzureSynthesizerConfig\u001b[39m.\u001b[39mfrom_output_device(speaker_output),\n\u001b[1;32m     35\u001b[0m     )\n\u001b[1;32m     36\u001b[0m     \u001b[39m# This allows you to stop the conversation with a KeyboardInterrupt\u001b[39;00m\n",
      "File \u001b[0;32m~/.local/lib/python3.10/site-packages/vocode/helpers.py:47\u001b[0m, in \u001b[0;36mcreate_microphone_input_and_speaker_output\u001b[0;34m(streaming, use_default_devices, mic_sampling_rate, speaker_sampling_rate)\u001b[0m\n\u001b[1;32m     43\u001b[0m output_device_infos \u001b[39m=\u001b[39m \u001b[39mlist\u001b[39m(\n\u001b[1;32m     44\u001b[0m     \u001b[39mfilter\u001b[39m(\u001b[39mlambda\u001b[39;00m device_info: device_info[\u001b[39m\"\u001b[39m\u001b[39mmax_output_channels\u001b[39m\u001b[39m\"\u001b[39m] \u001b[39m>\u001b[39m \u001b[39m0\u001b[39m, device_infos)\n\u001b[1;32m     45\u001b[0m )\n\u001b[1;32m     46\u001b[0m \u001b[39mif\u001b[39;00m use_default_devices:\n\u001b[0;32m---> 47\u001b[0m     input_device_info \u001b[39m=\u001b[39m sd\u001b[39m.\u001b[39;49mquery_devices(kind\u001b[39m=\u001b[39;49m\u001b[39m\"\u001b[39;49m\u001b[39minput\u001b[39;49m\u001b[39m\"\u001b[39;49m)\n\u001b[1;32m     48\u001b[0m     output_device_info \u001b[39m=\u001b[39m sd\u001b[39m.\u001b[39mquery_devices(kind\u001b[39m=\u001b[39m\u001b[39m\"\u001b[39m\u001b[39moutput\u001b[39m\u001b[39m\"\u001b[39m)\n\u001b[1;32m     49\u001b[0m \u001b[39melse\u001b[39;00m:\n",
      "File \u001b[0;32m~/.local/lib/python3.10/site-packages/sounddevice.py:569\u001b[0m, in \u001b[0;36mquery_devices\u001b[0;34m(device, kind)\u001b[0m\n\u001b[1;32m    567\u001b[0m info \u001b[39m=\u001b[39m _lib\u001b[39m.\u001b[39mPa_GetDeviceInfo(device)\n\u001b[1;32m    568\u001b[0m \u001b[39mif\u001b[39;00m \u001b[39mnot\u001b[39;00m info:\n\u001b[0;32m--> 569\u001b[0m     \u001b[39mraise\u001b[39;00m PortAudioError(\u001b[39mf\u001b[39m\u001b[39m'\u001b[39m\u001b[39mError querying device \u001b[39m\u001b[39m{\u001b[39;00mdevice\u001b[39m}\u001b[39;00m\u001b[39m'\u001b[39m)\n\u001b[1;32m    570\u001b[0m \u001b[39massert\u001b[39;00m info\u001b[39m.\u001b[39mstructVersion \u001b[39m==\u001b[39m \u001b[39m2\u001b[39m\n\u001b[1;32m    571\u001b[0m name_bytes \u001b[39m=\u001b[39m _ffi\u001b[39m.\u001b[39mstring(info\u001b[39m.\u001b[39mname)\n",
      "\u001b[0;31mPortAudioError\u001b[0m: Error querying device -1"
     ]
    }
   ],
   "source": [
    "import asyncio\n",
    "import signal\n",
    "import vocode\n",
    "\n",
    "from vocode.streaming.hosted_streaming_conversation import HostedStreamingConversation\n",
    "from vocode.streaming.streaming_conversation import StreamingConversation\n",
    "from vocode.helpers import create_microphone_input_and_speaker_output\n",
    "from vocode.streaming.models.transcriber import (\n",
    "    DeepgramTranscriberConfig,\n",
    "    PunctuationEndpointingConfig,\n",
    ")\n",
    "from vocode.streaming.models.agent import ChatGPTAgentConfig\n",
    "from vocode.streaming.models.message import BaseMessage\n",
    "from vocode.streaming.models.synthesizer import AzureSynthesizerConfig\n",
    "\n",
    "vocode.api_key = \"\"\n",
    "\n",
    "\n",
    "if __name__ == \"__main__\":\n",
    "    microphone_input, speaker_output = create_microphone_input_and_speaker_output(\n",
    "    use_default_devices=True)\n",
    "\n",
    "    conversation = HostedStreamingConversation(\n",
    "        input_device=microphone_input,\n",
    "        output_device=speaker_output,\n",
    "        transcriber_config=DeepgramTranscriberConfig.from_input_device(\n",
    "            microphone_input,\n",
    "            endpointing_config=PunctuationEndpointingConfig(),\n",
    "        ),\n",
    "        agent_config=ChatGPTAgentConfig(\n",
    "            initial_message=BaseMessage(text=\"Hello!\"),\n",
    "            prompt_preamble=\"Have a pleasant conversation about life\",\n",
    "        ),\n",
    "        synthesizer_config=AzureSynthesizerConfig.from_output_device(speaker_output),\n",
    "    )\n",
    "    # This allows you to stop the conversation with a KeyboardInterrupt\n",
    "    signal.signal(signal.SIGINT, lambda _0, _1: conversation.deactivate())\n",
    "    asyncio.run(conversation.start())"
   ]
  },
  {
   "cell_type": "code",
   "execution_count": null,
   "metadata": {},
   "outputs": [],
   "source": [
    "import vocode\n",
    "import playsound\n"
   ]
  }
 ],
 "metadata": {
  "kernelspec": {
   "display_name": "Python 3",
   "language": "python",
   "name": "python3"
  },
  "language_info": {
   "codemirror_mode": {
    "name": "ipython",
    "version": 3
   },
   "file_extension": ".py",
   "mimetype": "text/x-python",
   "name": "python",
   "nbconvert_exporter": "python",
   "pygments_lexer": "ipython3",
   "version": "3.10.6"
  },
  "orig_nbformat": 4,
  "vscode": {
   "interpreter": {
    "hash": "e7370f93d1d0cde622a1f8e1c04877d8463912d04d973331ad4851f04de6915a"
   }
  }
 },
 "nbformat": 4,
 "nbformat_minor": 2
}
